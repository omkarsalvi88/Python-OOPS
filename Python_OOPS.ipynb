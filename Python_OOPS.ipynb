{
  "nbformat": 4,
  "nbformat_minor": 0,
  "metadata": {
    "colab": {
      "provenance": []
    },
    "kernelspec": {
      "name": "python3",
      "display_name": "Python 3"
    },
    "language_info": {
      "name": "python"
    }
  },
  "cells": [
    {
      "cell_type": "markdown",
      "source": [
        "#Python OOPS\n",
        "\n",
        "Theorotical questions\n",
        "\n",
        "1. What is Object-Oriented Programming (OOP)?\n",
        "   -  Object-Oriented Programming (OOP) is a way of writing code where everything is organized around objects. These objects represent real-world things and have properties (like a car color or speed) and actions they can perform (like driving or braking). In OOP, you first create a class, which acts like a blueprint, and then make objects from that class.\n",
        "\n",
        "\n",
        "2. What is a class in OOP ?\n",
        "   - In Object-Oriented Programming (OOP), a class is like a blueprint or template for creating objects. It defines what attributes (also called properties or variables) and methods (functions or behaviors) an object will have, but it doesnt represent anything by itself until you create an object (also called an instance) from it. A class defines the structure and behavior of objects. An object is a specific example created from that class.\n",
        "\n",
        "\n",
        "3. What is an object in OOP ?\n",
        "   - In Object-Oriented Programming (OOP), an object is a specific instance of a class.If a class is like a blueprint, then the object is the actual thing built from that blueprint. It contains real values for the properties (attributes) defined in the class and can perform the actions (methods) the class describes.An object is a concrete, usable version of a class, with actual data and behavior.\n",
        "\n",
        "\n",
        "4. What is the difference between abstraction and encapsulation ?\n",
        "   - Abstraction and encapsulation are both important in OOP but serve different purposes. Abstraction focuses on hiding complex implementation details and only showing the necessary features, allowing users to interact with objects without needing to understand how they work internally. Encapsulation, on the other hand, is about bundling data and methods within a class and restricting direct access to some of the object components to protect the data and ensure it's used correctly. In simple terms, abstraction is about what an object does, while encapsulation is about how the object data is kept safe and organized.\n",
        "\n",
        "\n",
        "5. What are dunder methods in Python ?\n",
        "    -  Dunder methods in Python (short for “double underscore” methods, also called magic methods) are special methods that have names starting and ending with double underscores, like __init__, __str__, or __add__. These methods let you customize how your objects behave with built-in Python operations. For example, __init__ initializes a new object, __str__ defines what gets shown when you print an object, and __add__ allows you to use the + operator with objects.They are not meant to be called directly; instead, Python calls them behind the scenes. For example, writing print(my_object) will automatically call my_object.__str__().In short, dunder methods allow you to define how your objects behave with standard Python syntax and operations.\n",
        "\n",
        "\n",
        "6. Explain the concept of inheritance in OOP ?\n",
        "    - In Object-Oriented Programming (OOP), inheritance is a concept where a child class (also called a subclass) can inherit properties and methods from a parent class (also called a superclass). This means the child class can use the code already written in the parent class without rewriting it.For example, if you have a parent class Animal with a method speak(), you can create a child class Dog that automatically has the speak() method, unless you want to change it. You can also add new features in the child class that are specific to Dog.Inheritance helps make code more reusable, organized, and easier to maintain. It also supports the idea of a “is-a” relationship (e.g., a Dog is an Animal).\n",
        "\n",
        "\n",
        "7. What is polymorphism in OOP ?\n",
        "   - Polymorphism in Object-Oriented Programming (OOP) means that different classes can have methods with the same name, but those methods can behave differently depending on the object calling them.For example, suppose you have a Bird class and a Dog class, and both have a method called speak(). Even though the method name is the same, the Bird's speak() might return \"Tweet\", while the Dog's speak() returns \"Bark\". When you call speak() on a Bird object or a Dog object, Python knows which version to run.In short, polymorphism lets you use the same method name across different classes, allowing objects to respond in their own way. This makes your code more flexible and easier to extend.\n",
        "\n",
        "\n",
        "8. How is encapsulation achieved in Python ?\n",
        "   - Encapsulation in Python is achieved by restricting direct access to an object internal data using naming conventions like a single underscore (for protected) or double underscores (for private) which trigger name mangling. This hides the data from outside access and is usually combined with getter and setter methods or the @property decorator to control how the data is accessed or modified, keeping the object state safe and organized.\n",
        "\n",
        "\n",
        "9. What is a constructor in Python ?\n",
        "   - A constructor in Python is a special method called `__init__` that is automatically called when you create a new object from a class. It is used to initialize the object attributes with specific values, setting up the object initial state right when it is created.\n",
        "\n",
        "\n",
        "10. What are class and static methods in Python ?\n",
        "    - In Python, class methods and static methods are special types of methods inside a class that behave differently from regular instance methods.A class method is a method that receives the class itself as the first argument (usually named cls) instead of an instance. It is defined using the @classmethod decorator and can access or modify class-level data shared by all instances. You call class methods on the class itself or on instances.A static method doesnt receive an automatic first argument (neither self nor cls). It is defined with the @staticmethod decorator and behaves like a regular function but lives inside the class namespace. Static methods dont access instance or class data; they are utility functions related to the class.In short, class methods work with the class, static methods are simple utility functions inside the class, and instance methods work with individual objects.\n",
        "\n",
        "\n",
        "11. What is method overloading in Python ?\n",
        "    - In Python, method overloading—the ability to have multiple methods with the same name but different parameters—is not supported in the traditional way like in some other languages (e.g., Java or C++). If you define multiple methods with the same name, the latest one will override the previous ones.However, you can achieve similar behavior by using default arguments, variable-length arguments (*args, **kwargs), or by manually checking the types or number of arguments inside a single method to handle different cases.So, method overloading in Python is usually done by writing one method that can handle different kinds of inputs, rather than having multiple methods with the same name but different signatures.\n",
        "\n",
        "\n",
        "12. What is method overriding in OOP ?\n",
        "    - Method overriding in Object-Oriented Programming (OOP) happens when a child class provides its own version of a method that is already defined in its parent class. This allows the child class to change or extend the behavior of that method.For example, if a parent class has a method speak(), the child class can override it to make it behave differently while keeping the same method name. When you call that method on an object of the child class, the childs version runs instead of the parents.In short, method overriding lets a subclass customize or replace the behavior of methods inherited from its superclass.\n",
        "\n",
        "\n",
        "13. What is a property decorator in Python ?\n",
        "    - In Python, the @property decorator is used to define a method that behaves like a read-only attribute. It allows you to access a method like an attribute, making your code cleaner and more intuitive without needing explicit getter methods.Using @property, you can control how an attribute is accessed, and you can also define corresponding setter and deleter methods to manage changes or deletion of that attribute—all while keeping a simple attribute-like syntax.For example, instead of calling obj.get_value(), you can just use obj.value if value is defined with @property.In short, the property decorator helps you manage attribute access in an elegant, controlled way using methods behind the scenes.\n",
        "\n",
        "\n",
        "14. Why is polymorphism important in OOP ?\n",
        "    - Polymorphism is important in OOP because it allows different objects to be treated through a common interface while behaving differently based on their specific types. This means you can write flexible and reusable code that works with objects of various classes without needing to know their exact types. It makes programs easier to extend and maintain since new classes can be added with their own behaviors without changing the existing code. In short, polymorphism helps simplify complex systems by enabling one interface to handle many different underlying forms.\n",
        "\n",
        "\n",
        "15. What is an abstract class in Python ?\n",
        "    - An abstract class in Python is a class that cannot be instantiated on its own and is meant to serve as a blueprint for other classes. It defines abstract methods—methods that are declared but dont have an implementation—forcing any subclass to provide their own version of those methods. Abstract classes are created using the abc module with the ABC class and the @abstractmethod decorator. This helps ensure that certain methods are implemented in subclasses, providing a clear contract for developers and supporting a structured, consistent design.\n",
        "\n",
        "\n",
        "16. What are the advantages of OOP?\n",
        "    - The advantages of Object-Oriented Programming (OOP) include making code more organized and easier to manage by grouping data and behavior into objects. It promotes code reuse through inheritance, so you dont have to rewrite common functionality. OOP also supports modularity, allowing developers to build complex programs from smaller, self-contained pieces. Encapsulation helps protect data and reduces bugs by controlling access to object internals. Polymorphism and abstraction make programs more flexible and easier to extend or modify without changing existing code. Overall, OOP leads to cleaner, more maintainable, and scalable software.\n",
        "\n",
        "\n",
        "17. What is the difference between a class variable and an instance variable ?\n",
        "    - A class variable is shared by all instances of a class—there is only one copy of it, and if it changes, the change is seen by every object created from that class. An instance variable, on the other hand, is unique to each object; every instance has its own separate copy, so changing it affects only that particular object. In short, class variables hold data common to all objects, while instance variables hold data specific to each individual object.\n",
        "\n",
        "\n",
        "18. What is multiple inheritance in Python ?\n",
        "    - Multiple inheritance in Python is when a class inherits from more than one parent class at the same time. This means the child class can access attributes and methods from all its parent classes, allowing it to combine different behaviors and features.For example, if you have one class Flying with a method fly() and another class Swimming with a method swim(), a class Duck can inherit from both Flying and Swimming, so it can both fly and swim.Python handles method resolution in multiple inheritance using the Method Resolution Order (MRO) to decide which parents method to call if there are conflicts.In short, multiple inheritance lets a class reuse code from multiple sources, making it more flexible.\n",
        "\n",
        "\n",
        "19. Explain the purpose of ‘’__str__’ and ‘__repr__’ ‘ methods in Python ?\n",
        "    - In Python, the __str__ and __repr__ methods both control how objects are represented as strings, but they serve different purposes:__str__ is meant to provide a friendly, readable, and informal string representation of an object, suitable for end-users. It’s what gets returned when you use print() on an object.__repr__ is designed to give a detailed and unambiguous string that ideally could be used to recreate the object. It’s mainly for developers and debugging, and it’s what you see when you just type the object’s name in the Python shell.If you only define one, __repr__ is used as a fallback for both. So, __str__ is for nice display, and __repr__ is for precise, technical representation.\n",
        "\n",
        "\n",
        "20. What is the significance of the ‘super()’ function in Python ?\n",
        "    - The super() function in Python is used to call a method from a parent (or superclass) inside a child (or subclass). It’s especially useful in inheritance to access or extend the behavior of the parent class without explicitly naming it, which makes your code cleaner and more maintainable.For example, you can use super() to call the parent class’s __init__ method to ensure the parent is properly initialized when creating a child object.In short, super() helps subclasses reuse and build upon the functionality of their parent classes efficiently.\n",
        "\n",
        "\n",
        "21. What is the significance of the __del__ method in Python ?\n",
        "    - The __del__ method in Python is a special method called a destructor, which is automatically invoked when an object is about to be destroyed or garbage collected. Its main purpose is to perform cleanup actions, such as releasing external resources (like files or network connections) or freeing memory before the object is removed from memory.However, relying heavily on __del__ is generally discouraged because Python’s garbage collection is unpredictable, and it may not always be called immediately when an object goes out of scope.In short, __del__ lets you define cleanup code that runs when an object is deleted, but it should be used carefully.\n",
        "\n",
        "\n",
        "22. What is the difference between @staticmethod and @classmethod in Python ?\n",
        "    - @staticmethod and @classmethod are both decorators in Python that define special types of methods inside a class, but they differ in what they receive as their first argument and how they’re used. A static method does not receive any special first argument—it behaves like a regular function that just happens to be inside a class. It doesn’t have access to the instance (self) or the class (cls) and is typically used for utility functions related to the class but not dependent on class or instance data. On the other hand, a class method receives the class itself as the first argument, usually named cls. This allows the method to access or modify class-level data and be called on the class itself or on instances. Essentially, static methods are independent functions grouped inside a class, while class methods work with the class state.\n",
        "\n",
        "\n",
        "23. How does polymorphism work in Python with inheritance ?\n",
        "    - Polymorphism in Python with inheritance works by allowing a child class to provide its own version of a method that’s defined in its parent class. When you call that method on an object, Python automatically uses the version that matches the object’s actual class, even if you’re referring to it through a parent class reference. This means you can write code that works with a general parent class but behaves differently depending on the specific subclass instance you pass in. For example, if both a Dog and a Cat class inherit from an Animal class and override a speak() method, calling speak() on an Animal object will run the correct method for either a dog or a cat, depending on the actual object. This flexibility lets you write more general and reusable code.\n",
        "\n",
        "\n",
        "24. What is method chaining in Python OOP ?\n",
        "    - Method chaining in Python OOP is a technique where you call multiple methods on the same object sequentially in a single line. This is possible when each method returns the object itself (self), allowing the next method to be called directly on that returned object. It helps make code more concise and readable by combining several operations into one statement. For example, obj.method1().method2().method3() calls three methods in a row on obj.\n",
        "\n",
        "\n",
        "25. What is the purpose of the __call__ method in Python ?\n",
        "    - The __call__ method in Python allows an instance of a class to be called like a function. When you define __call__ inside a class, you can use its objects with parentheses () just like regular functions, and whatever code is inside __call__ will be executed. This can be useful for making objects behave like functions, enabling more flexible and intuitive interfaces.\n",
        "\n",
        "    "
      ],
      "metadata": {
        "id": "8N6IY56dfPw_"
      }
    },
    {
      "cell_type": "code",
      "source": [
        "#Practical Questions\n",
        "\n",
        "#1.  Create a parent class Animal with a method speak() that prints a generic message. Create a child class Dogthat overrides the speak() method to print \"Bark!\".\n",
        "\n",
        "class Animal:\n",
        "    def speak(self):\n",
        "        print(\"This animal makes a sound.\")\n",
        "\n",
        "class Dog(Animal):\n",
        "    def speak(self):\n",
        "        print(\"Bark!\")\n",
        "obj = Animal()\n",
        "obj.speak()  # Output: This animal makes a sound.\n",
        "obj = Dog()\n",
        "obj.speak()  # Output: Bark!\n",
        "\n"
      ],
      "metadata": {
        "id": "pdA5xpn-mCm4",
        "colab": {
          "base_uri": "https://localhost:8080/"
        },
        "outputId": "d1a1567a-26a6-4b7d-8122-27967a98ea91"
      },
      "execution_count": 19,
      "outputs": [
        {
          "output_type": "stream",
          "name": "stdout",
          "text": [
            "This animal makes a sound.\n",
            "Bark!\n"
          ]
        }
      ]
    },
    {
      "cell_type": "code",
      "source": [
        "#2. Write a program to create an abstract class Shape with a method area(). Derive classes Circle and Rectangle from it and implement the area() method in both.\n",
        "\n",
        "from abc import ABC, abstractmethod\n",
        "import math\n",
        "\n",
        "class Shape(ABC):\n",
        "    @abstractmethod\n",
        "    def area(self):\n",
        "        pass\n",
        "\n",
        "class Circle(Shape):\n",
        "    def __init__(self, radius):\n",
        "        self.radius = radius\n",
        "\n",
        "    def area(self):\n",
        "        return math.pi * (self.radius ** 2)\n",
        "\n",
        "class Rectangle(Shape):\n",
        "    def __init__(self, width, height):\n",
        "        self.width = width\n",
        "        self.height = height\n",
        "\n",
        "    def area(self):\n",
        "        return self.width * self.height\n",
        "obj = Circle(5)\n",
        "print(obj.area())  # Output: 78.53981633974483\n",
        "obj = Rectangle(4, 6)\n",
        "print(obj.area())  # Output: 24\n",
        "\n"
      ],
      "metadata": {
        "id": "s11WU4jimgEH",
        "colab": {
          "base_uri": "https://localhost:8080/"
        },
        "outputId": "10181781-8ccb-4916-fc7b-b638dec6784f"
      },
      "execution_count": 18,
      "outputs": [
        {
          "output_type": "stream",
          "name": "stdout",
          "text": [
            "78.53981633974483\n",
            "24\n"
          ]
        }
      ]
    },
    {
      "cell_type": "code",
      "source": [
        "#3.  Implement a multi-level inheritance scenario where a class Vehicle has an attribute type. Derive a class Car and further derive a class ElectricCar that adds a battery attribute.\n",
        "\n",
        "class Vehicle:\n",
        "    def __init__(self, vehicle_type):\n",
        "        self.type = vehicle_type\n",
        "\n",
        "class Car(Vehicle):\n",
        "    def __init__(self, vehicle_type, model):\n",
        "        super().__init__(vehicle_type)\n",
        "        self.model = model\n",
        "\n",
        "class ElectricCar(Car):\n",
        "    def __init__(self, vehicle_type, model, battery):\n",
        "        super().__init__(vehicle_type, model)\n",
        "        self.battery = battery\n",
        "\n",
        "# Example usage\n",
        "my_electric_car = ElectricCar(\"Electric\", \"Tesla Model 3\", \"75 kWh\")\n",
        "print(f\"Type: {my_electric_car.type}, Model: {my_electric_car.model}, Battery: {my_electric_car.battery}\")\n"
      ],
      "metadata": {
        "colab": {
          "base_uri": "https://localhost:8080/"
        },
        "id": "S935As-ZmxAw",
        "outputId": "b2f9858c-28cf-4754-a62c-b77652534f14"
      },
      "execution_count": null,
      "outputs": [
        {
          "output_type": "stream",
          "name": "stdout",
          "text": [
            "Type: Electric, Model: Tesla Model 3, Battery: 75 kWh\n"
          ]
        }
      ]
    },
    {
      "cell_type": "code",
      "source": [
        "#4.  Demonstrate polymorphism by creating a base class Bird with a method fly(). Create two derived classes Sparrow and Penguin that override the fly() method.\n",
        "\n",
        "class Bird:\n",
        "    def fly(self):\n",
        "        raise NotImplementedError(\"Subclasses must implement this method\")\n",
        "\n",
        "class Sparrow(Bird):\n",
        "    def fly(self):\n",
        "        return \"Sparrow flies high!\"\n",
        "\n",
        "class Penguin(Bird):\n",
        "    def fly(self):\n",
        "        return \"Penguin can't fly!\"\n",
        "\n",
        "# Example usage\n",
        "birds = [Sparrow(), Penguin()]\n",
        "for bird in birds:\n",
        "    print(bird.fly())\n",
        "\n"
      ],
      "metadata": {
        "colab": {
          "base_uri": "https://localhost:8080/"
        },
        "id": "iwSVZLDEm8Vh",
        "outputId": "e43bb3d5-1f2d-43eb-e681-3b19899faa23"
      },
      "execution_count": null,
      "outputs": [
        {
          "output_type": "stream",
          "name": "stdout",
          "text": [
            "Sparrow flies high!\n",
            "Penguin can't fly!\n"
          ]
        }
      ]
    },
    {
      "cell_type": "code",
      "source": [
        "#5.  Write a program to demonstrate encapsulation by creating a class BankAccount with private attributes balance and methods to deposit, withdraw, and check balance.\n",
        "\n",
        "class BankAccount:\n",
        "    def __init__(self):\n",
        "        self.__balance = 0.0  # Private attribute\n",
        "\n",
        "    def deposit(self, amount):\n",
        "        if amount > 0:\n",
        "            self.__balance += amount\n",
        "            print(f\"Deposited: €{amount:.2f}\")\n",
        "        else:\n",
        "            print(\"Deposit amount must be positive.\")\n",
        "\n",
        "    def withdraw(self, amount):\n",
        "        if 0 < amount <= self.__balance:\n",
        "            self.__balance -= amount\n",
        "            print(f\"Withdrew: €{amount:.2f}\")\n",
        "        else:\n",
        "            print(\"Insufficient funds or invalid amount.\")\n",
        "\n",
        "    def check_balance(self):\n",
        "        return f\"Current balance: €{self.__balance:.2f}\"\n",
        "\n",
        "# Example usage\n",
        "account = BankAccount()\n",
        "account.deposit(150)\n",
        "account.withdraw(50)\n",
        "print(account.check_balance())\n"
      ],
      "metadata": {
        "colab": {
          "base_uri": "https://localhost:8080/"
        },
        "id": "7XV1BdT2nJWX",
        "outputId": "ed8c111d-f2b1-48f9-ba25-e18b11384a7b"
      },
      "execution_count": null,
      "outputs": [
        {
          "output_type": "stream",
          "name": "stdout",
          "text": [
            "Deposited: €150.00\n",
            "Withdrew: €50.00\n",
            "Current balance: €100.00\n"
          ]
        }
      ]
    },
    {
      "cell_type": "code",
      "source": [
        "#6. Demonstrate runtime polymorphism using a method play() in a base class Instrument. Derive classes Guitar and Piano that implement their own version of play().\n",
        "\n",
        "class Instrument:\n",
        "    def play(self):\n",
        "        raise NotImplementedError(\"Subclasses must implement this method\")\n",
        "\n",
        "class Guitar(Instrument):\n",
        "    def play(self):\n",
        "        return \"Strumming the guitar!\"\n",
        "\n",
        "class Piano(Instrument):\n",
        "    def play(self):\n",
        "        return \"Playing the piano!\"\n",
        "\n",
        "# Demonstrating runtime polymorphism\n",
        "def perform(instrument: Instrument):\n",
        "    print(instrument.play())\n",
        "\n",
        "guitar = Guitar()\n",
        "piano = Piano()\n",
        "\n",
        "perform(guitar)  # Output: Strumming the guitar!\n",
        "perform(piano)   # Output: Playing the piano!\n"
      ],
      "metadata": {
        "colab": {
          "base_uri": "https://localhost:8080/"
        },
        "id": "Hee_YYDznTgm",
        "outputId": "420973d9-112d-4738-cc4d-ac6d6d2b6a18"
      },
      "execution_count": null,
      "outputs": [
        {
          "output_type": "stream",
          "name": "stdout",
          "text": [
            "Strumming the guitar!\n",
            "Playing the piano!\n"
          ]
        }
      ]
    },
    {
      "cell_type": "code",
      "source": [
        "#7. Create a class MathOperations with a class method add_numbers() to add two numbers and a static method subtract_numbers() to subtract two numbers.\n",
        "\n",
        "class MathOperations:\n",
        "    @classmethod\n",
        "    def add_numbers(cls, a, b):\n",
        "        return a + b\n",
        "\n",
        "    @staticmethod\n",
        "    def subtract_numbers(a, b):\n",
        "        return a - b\n",
        "\n",
        "# Function to calculate order values\n",
        "def calculate_orders(orders):\n",
        "    def calculate_order(order):\n",
        "        order_number, price_per_item, quantity = order\n",
        "        total = price_per_item * quantity\n",
        "        if total < 100:\n",
        "            total += 10  # Adding surcharge\n",
        "        return (order_number, total)\n",
        "\n",
        "    return list(map(calculate_order, orders))\n",
        "\n",
        "# Example usage\n",
        "if __name__ == \"__main__\":\n",
        "    # Example orders: (order_number, price_per_item, quantity)\n",
        "    orders = [(1, 20, 3), (2, 50, 1), (3, 10, 5)]\n",
        "    print(\"Sum of 5 and 3:\", MathOperations.add_numbers(5, 3))\n",
        "    print(\"Difference of 10 and 4:\", MathOperations.subtract_numbers(10, 4))\n",
        "    print(\"Order values:\", calculate_orders(orders))\n"
      ],
      "metadata": {
        "colab": {
          "base_uri": "https://localhost:8080/"
        },
        "id": "kimkTRG_nf7O",
        "outputId": "2823cb1d-1b79-4462-c6d0-4ecb21777b82"
      },
      "execution_count": null,
      "outputs": [
        {
          "output_type": "stream",
          "name": "stdout",
          "text": [
            "Sum of 5 and 3: 8\n",
            "Difference of 10 and 4: 6\n",
            "Order values: [(1, 70), (2, 60), (3, 60)]\n"
          ]
        }
      ]
    },
    {
      "cell_type": "code",
      "source": [
        "#8.  Implement a class Person with a class method to count the total number of persons created\n",
        "\n",
        "class Person:\n",
        "    count = 0  # Class variable to keep track of the number of instances\n",
        "\n",
        "    def __init__(self):\n",
        "        Person.count += 1  # Increment count when a new instance is created\n",
        "\n",
        "    @classmethod\n",
        "    def total_persons(cls):\n",
        "        return cls.count  # Return the total count of Person instances\n",
        "obj = Person()\n",
        "print(Person.total_persons())  # Output: 1\n",
        "obj2 = Person()\n",
        "print(Person.total_persons())  # Output: 2"
      ],
      "metadata": {
        "id": "Euz-GCHGnqg4",
        "colab": {
          "base_uri": "https://localhost:8080/"
        },
        "outputId": "5dc209cc-0409-4c99-8783-73cd733ff8e0"
      },
      "execution_count": 17,
      "outputs": [
        {
          "output_type": "stream",
          "name": "stdout",
          "text": [
            "1\n",
            "2\n"
          ]
        }
      ]
    },
    {
      "cell_type": "code",
      "source": [
        "#9.  Write a class Fraction with attributes numerator and denominator. Override the str method to display the fraction as \"numerator/denominator\".\n",
        "\n",
        "class Fraction:\n",
        "    def __init__(self, numerator, denominator):\n",
        "        self.numerator = numerator\n",
        "        self.denominator = denominator\n",
        "\n",
        "    def __str__(self):\n",
        "        return f\"{self.numerator}/{self.denominator}\"\n",
        "obj = Fraction(3, 4)\n",
        "print(obj)  # Output: 3/4\n"
      ],
      "metadata": {
        "id": "0jgUg8JXnziQ",
        "colab": {
          "base_uri": "https://localhost:8080/"
        },
        "outputId": "283250c9-b074-4e33-c7fa-02ee422b5f26"
      },
      "execution_count": 16,
      "outputs": [
        {
          "output_type": "stream",
          "name": "stdout",
          "text": [
            "3/4\n"
          ]
        }
      ]
    },
    {
      "cell_type": "code",
      "source": [
        "#10.   Demonstrate operator overloading by creating a class Vector and overriding the add method to add two vectors.\n",
        "\n",
        "class Vector:\n",
        "    def __init__(self, x, y):\n",
        "        self.x = x\n",
        "        self.y = y\n",
        "\n",
        "    def __add__(self, other):\n",
        "        return Vector(self.x + other.x, self.y + other.y)\n",
        "\n",
        "    def __repr__(self):\n",
        "        return f\"Vector({self.x}, {self.y})\"\n",
        "\n",
        "# Example usage\n",
        "v1 = Vector(2, 3)\n",
        "v2 = Vector(4, 5)\n",
        "result = v1 + v2\n",
        "print(result)  # Output: Vector(6, 8)\n"
      ],
      "metadata": {
        "colab": {
          "base_uri": "https://localhost:8080/"
        },
        "id": "33vaCClYoBuo",
        "outputId": "80cf59ce-cc2f-4aba-e5e2-f6c182f13fb8"
      },
      "execution_count": null,
      "outputs": [
        {
          "output_type": "stream",
          "name": "stdout",
          "text": [
            "Vector(6, 8)\n"
          ]
        }
      ]
    },
    {
      "cell_type": "code",
      "source": [
        "#11.  Create a class Person with attributes name and age. Add a method greet() that prints \"Hello, my name is {name} and I am {age} years old.\"\n",
        "\n",
        "class Person:\n",
        "    def __init__(self, name, age):\n",
        "        self.name = name\n",
        "        self.age = age\n",
        "\n",
        "    def greet(self):\n",
        "        print(f\"Hello, my name is {self.name} and I am {self.age} years old.\")\n",
        "obj = Person(\"Alice\", 30)\n",
        "obj.greet()  # Output: Hello, my name is Alice and I am 30 years old.\n",
        "\n"
      ],
      "metadata": {
        "colab": {
          "base_uri": "https://localhost:8080/"
        },
        "id": "21HIMAOh6LvU",
        "outputId": "1298a45d-ce03-42d8-afd6-ce105b2d09a4"
      },
      "execution_count": 15,
      "outputs": [
        {
          "output_type": "stream",
          "name": "stdout",
          "text": [
            "Hello, my name is Alice and I am 30 years old.\n"
          ]
        }
      ]
    },
    {
      "cell_type": "code",
      "source": [
        "#12. . Implement a class Student with attributes name and grades. Create a method average_grade() to compute the average of the grades.\n",
        "\n",
        "class Student:\n",
        "    def __init__(self, name, grades):\n",
        "        self.name = name\n",
        "        self.grades = grades\n",
        "\n",
        "    def average_grade(self):\n",
        "        return sum(self.grades) / len(self.grades) if self.grades else 0\n",
        "obj = Student(\"Alice\", [85, 90, 78, 92])\n",
        "print(obj.average_grade())  # Output: 86.5\n"
      ],
      "metadata": {
        "colab": {
          "base_uri": "https://localhost:8080/"
        },
        "id": "QjwA4Kdj7Ay0",
        "outputId": "14d069a3-bcef-40bf-84d4-74eccc579ce4"
      },
      "execution_count": 14,
      "outputs": [
        {
          "output_type": "stream",
          "name": "stdout",
          "text": [
            "86.25\n"
          ]
        }
      ]
    },
    {
      "cell_type": "code",
      "source": [
        "#13.  Create a class Rectangle with methods set_dimensions() to set the dimensions and area() to calculate the area.\n",
        "\n",
        "class Rectangle:\n",
        "    def __init__(self):\n",
        "        self.width = 0\n",
        "        self.height = 0\n",
        "\n",
        "    def set_dimensions(self, width, height):\n",
        "        self.width = width\n",
        "        self.height = height\n",
        "\n",
        "    def area(self):\n",
        "        return self.width * self.height\n",
        "obj = Rectangle()\n",
        "obj.set_dimensions(5, 3)\n",
        "print(obj.area())  # Output: 15\n"
      ],
      "metadata": {
        "colab": {
          "base_uri": "https://localhost:8080/"
        },
        "id": "DK3yDjNi7JvT",
        "outputId": "663d9f01-2bab-466d-a128-ae54be97e5ad"
      },
      "execution_count": 13,
      "outputs": [
        {
          "output_type": "stream",
          "name": "stdout",
          "text": [
            "15\n"
          ]
        }
      ]
    },
    {
      "cell_type": "code",
      "source": [
        "#14.  Create a class Employee with a method calculate_salary() that computes the salary based on hours worked and hourly rate. Create a derived class Manager that adds a bonus to the salary.\n",
        "\n",
        "class Employee:\n",
        "    def __init__(self, hours_worked, hourly_rate):\n",
        "        self.hours_worked = hours_worked\n",
        "        self.hourly_rate = hourly_rate\n",
        "\n",
        "    def calculate_salary(self):\n",
        "        return self.hours_worked * self.hourly_rate\n",
        "\n",
        "class Manager(Employee):\n",
        "    def __init__(self, hours_worked, hourly_rate, bonus):\n",
        "        super().__init__(hours_worked, hourly_rate)\n",
        "        self.bonus = bonus\n",
        "\n",
        "    def calculate_salary(self):\n",
        "        return super().calculate_salary() + self.bonus\n",
        "obj = Employee(40, 20)\n",
        "print(obj.calculate_salary())  # Output: 800\n",
        "obj = Manager(40, 20, 500)\n",
        "print(obj.calculate_salary())  # Output: 1300\n"
      ],
      "metadata": {
        "colab": {
          "base_uri": "https://localhost:8080/"
        },
        "id": "b1uWXNVe7Zhi",
        "outputId": "3e4deb11-7b27-4787-9604-486a0ca7136e"
      },
      "execution_count": 12,
      "outputs": [
        {
          "output_type": "stream",
          "name": "stdout",
          "text": [
            "800\n",
            "1300\n"
          ]
        }
      ]
    },
    {
      "cell_type": "code",
      "source": [
        "#15.  Create a class Product with attributes name, price, and quantity. Implement a method total_price() that calculates the total price of the product.\n",
        "\n",
        "class Product:\n",
        "    def __init__(self, name, price, quantity):\n",
        "        self.name = name\n",
        "        self.price = price\n",
        "        self.quantity = quantity\n",
        "\n",
        "    def total_price(self):\n",
        "        return self.price * self.quantity\n",
        "\n",
        "def calculate_order_totals(orders):\n",
        "    return list(map(lambda order: (order[0], order[1].total_price() + 10) if order[1].total_price() < 100 else (order[0], order[1].total_price()), orders))\n",
        "\n",
        "# Example usage\n",
        "product1 = Product(\"Widget\", 20, 3)  # Total price = 60\n",
        "product2 = Product(\"Gadget\", 15, 5)   # Total price = 75\n",
        "product3 = Product(\"Thingamajig\", 50, 2)  # Total price = 100\n",
        "\n",
        "orders = [(1, product1), (2, product2), (3, product3)]\n",
        "order_totals = calculate_order_totals(orders)\n",
        "\n",
        "print(order_totals)  # Output: [(1, 70), (2, 85), (3, 100)]\n",
        "\n"
      ],
      "metadata": {
        "colab": {
          "base_uri": "https://localhost:8080/"
        },
        "id": "DJLcqb6C7iuy",
        "outputId": "546c5f6a-2254-45c2-b20a-faa326ad78c7"
      },
      "execution_count": 4,
      "outputs": [
        {
          "output_type": "stream",
          "name": "stdout",
          "text": [
            "[(1, 70), (2, 85), (3, 100)]\n"
          ]
        }
      ]
    },
    {
      "cell_type": "code",
      "source": [
        "#16. Create a class Animal with an abstract method sound(). Create two derived classes Cow and Sheep that implement the sound() method.\n",
        "\n",
        "from abc import ABC, abstractmethod\n",
        "\n",
        "class Animal(ABC):\n",
        "    @abstractmethod\n",
        "    def sound(self):\n",
        "        pass\n",
        "\n",
        "class Cow(Animal):\n",
        "    def sound(self):\n",
        "        return \"Moo\"\n",
        "\n",
        "class Sheep(Animal):\n",
        "    def sound(self):\n",
        "        return \"Baa\"\n",
        "obj = Cow()\n",
        "print(obj.sound())  # Output: Moo\n",
        "obj = Sheep()\n",
        "print(obj.sound())  # Output: Baa\n"
      ],
      "metadata": {
        "colab": {
          "base_uri": "https://localhost:8080/"
        },
        "id": "eJ8EVwSY7xka",
        "outputId": "d1691bde-aa2f-475f-cd63-525096145ed2"
      },
      "execution_count": 11,
      "outputs": [
        {
          "output_type": "stream",
          "name": "stdout",
          "text": [
            "Moo\n",
            "Baa\n"
          ]
        }
      ]
    },
    {
      "cell_type": "code",
      "source": [
        "#17.  Create a class Book with attributes title, author, and year_published. Add a method get_book_info() that returns a formatted string with the book's details.\n",
        "\n",
        "class Book:\n",
        "    def __init__(self, title, author, year_published):\n",
        "        self.title = title\n",
        "        self.author = author\n",
        "        self.year_published = year_published\n",
        "\n",
        "    def get_book_info(self):\n",
        "        return f\"{self.title} by {self.author}, published in {self.year_published}\"\n",
        "obj = Book(\"The Great Gatsby\", \"F. Scott Fitzgerald\", 1925)\n",
        "print(obj.get_book_info())  # Output: \"The Great Gatsby by F. Scott Fitzgerald, published in 1925\"\n",
        "\n"
      ],
      "metadata": {
        "colab": {
          "base_uri": "https://localhost:8080/"
        },
        "id": "FGKIPBr18Krz",
        "outputId": "5f9d5c3d-59ac-4963-cba6-6326d039c6fe"
      },
      "execution_count": 10,
      "outputs": [
        {
          "output_type": "stream",
          "name": "stdout",
          "text": [
            "The Great Gatsby by F. Scott Fitzgerald, published in 1925\n"
          ]
        }
      ]
    },
    {
      "cell_type": "code",
      "source": [
        "#18.  Create a class House with attributes address and price. Create a derived class Mansion that adds an attribute number_of_rooms.\n",
        "\n",
        "class House:\n",
        "    def __init__(self, address, price):\n",
        "        self.address = address\n",
        "        self.price = price\n",
        "\n",
        "class Mansion(House):\n",
        "    def __init__(self, address, price, number_of_rooms):\n",
        "        super().__init__(address, price)\n",
        "        self.number_of_rooms = number_of_rooms\n",
        "\n",
        "def calculate_order_values(orders):\n",
        "    return list(map(lambda order: (order[0], order[1] * order[2] + (10 if order[1] * order[2] < 100 else 0)), orders))\n",
        "\n",
        "# Example usage\n",
        "orders = [(1, 20, 5), (2, 15, 3), (3, 50, 1)]\n",
        "order_values = calculate_order_values(orders)\n",
        "print(order_values)  # Output: [(1, 110), (2, 55), (3, 50)]\n"
      ],
      "metadata": {
        "colab": {
          "base_uri": "https://localhost:8080/"
        },
        "id": "uvwGidJN8bjy",
        "outputId": "4139a919-e8f8-416b-9ba6-00986dcea3b0"
      },
      "execution_count": 7,
      "outputs": [
        {
          "output_type": "stream",
          "name": "stdout",
          "text": [
            "[(1, 100), (2, 55), (3, 60)]\n"
          ]
        }
      ]
    }
  ]
}